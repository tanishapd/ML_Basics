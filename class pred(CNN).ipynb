{
 "cells": [
  {
   "cell_type": "code",
   "execution_count": 1,
   "id": "c6d6b54e",
   "metadata": {},
   "outputs": [
    {
     "name": "stdout",
     "output_type": "stream",
     "text": [
      "Requirement already satisfied: openCV-python in c:\\users\\kiit\\anaconda3\\lib\\site-packages (4.8.1.78)\n",
      "Requirement already satisfied: numpy>=1.21.2 in c:\\users\\kiit\\anaconda3\\lib\\site-packages (from openCV-python) (1.24.3)\n",
      "Note: you may need to restart the kernel to use updated packages.\n"
     ]
    }
   ],
   "source": [
    "pip install openCV-python"
   ]
  },
  {
   "cell_type": "code",
   "execution_count": 2,
   "id": "94e916a4",
   "metadata": {},
   "outputs": [],
   "source": [
    "import pandas as pd\n",
    "import numpy as np\n",
    "import matplotlib.pyplot as plt\n",
    "import tensorflow as tf\n",
    "from tensorflow import keras\n",
    "import cv2\n",
    "import os\n",
    "from PIL import Image"
   ]
  },
  {
   "cell_type": "code",
   "execution_count": 3,
   "id": "c85e5bf6",
   "metadata": {},
   "outputs": [],
   "source": [
    "#training and testing data\n",
    "mnist=tf.keras.datasets.mnist\n",
    "(x_train,y_train),(x_test,y_test)=mnist.load_data()\n",
    "x_train=tf.keras.utils.normalize(x_train,axis=1)\n",
    "x_test=tf.keras.utils.normalize(x_test,axis=1)"
   ]
  },
  {
   "cell_type": "code",
   "execution_count": 4,
   "id": "a74746b7",
   "metadata": {},
   "outputs": [],
   "source": [
    "#choosing the model\n",
    "model=tf.keras.models.Sequential()\n",
    "#flattening the model\n",
    "model.add(tf.keras.layers.Flatten(input_shape=(28,28)))\n",
    "#dense layer\n",
    "model.add(tf.keras.layers.Dense(128,activation=\"relu\"))\n",
    "model.add(tf.keras.layers.Dense(128,activation=\"relu\"))\n",
    "model.add(tf.keras.layers.Dense(10,activation=\"softmax\"))"
   ]
  },
  {
   "cell_type": "code",
   "execution_count": 5,
   "id": "87d42f3d",
   "metadata": {},
   "outputs": [
    {
     "name": "stdout",
     "output_type": "stream",
     "text": [
      "Epoch 1/5\n",
      "1875/1875 [==============================] - 11s 5ms/step - loss: 0.2586 - accuracy: 0.9237\n",
      "Epoch 2/5\n",
      "1875/1875 [==============================] - 10s 5ms/step - loss: 0.1044 - accuracy: 0.9677\n",
      "Epoch 3/5\n",
      "1875/1875 [==============================] - 10s 5ms/step - loss: 0.0716 - accuracy: 0.9773\n",
      "Epoch 4/5\n",
      "1875/1875 [==============================] - 10s 5ms/step - loss: 0.0535 - accuracy: 0.9821\n",
      "Epoch 5/5\n",
      "1875/1875 [==============================] - 10s 5ms/step - loss: 0.0400 - accuracy: 0.9873\n"
     ]
    },
    {
     "data": {
      "text/plain": [
       "<keras.src.callbacks.History at 0x2acd6e729d0>"
      ]
     },
     "execution_count": 5,
     "metadata": {},
     "output_type": "execute_result"
    }
   ],
   "source": [
    "#compiling the model\n",
    "model.compile(optimizer=\"adam\",loss='sparse_categorical_crossentropy',metrics=['accuracy'])\n",
    "model.fit(x_train,y_train,epochs=5)"
   ]
  },
  {
   "cell_type": "code",
   "execution_count": 6,
   "id": "34c36d3c",
   "metadata": {},
   "outputs": [
    {
     "name": "stdout",
     "output_type": "stream",
     "text": [
      "313/313 [==============================] - 2s 4ms/step - loss: 0.0919 - accuracy: 0.9748\n"
     ]
    },
    {
     "data": {
      "text/plain": [
       "[0.09189410507678986, 0.9747999906539917]"
      ]
     },
     "execution_count": 6,
     "metadata": {},
     "output_type": "execute_result"
    }
   ],
   "source": [
    "model.evaluate(x_test,y_test)"
   ]
  },
  {
   "cell_type": "code",
   "execution_count": 7,
   "id": "d0822eb3",
   "metadata": {},
   "outputs": [
    {
     "name": "stdout",
     "output_type": "stream",
     "text": [
      "1/1 [==============================] - 0s 189ms/step\n",
      "Predicted Class:3\n"
     ]
    }
   ],
   "source": [
    "sample_image=cv2.imread(\"C:/Users/KIIT/Downloads/WhatsApp Image 2023-10-01 at 18.15.23_fa61fefd.jpg\",cv2.IMREAD_GRAYSCALE)\n",
    "sample_image=cv2.resize(sample_image,(28,28))#resize the img to match the model input\n",
    "sample_image=sample_image/255.0#normalize pixel values to[0,1]\n",
    "sample_image=sample_image.reshape(1,28,28,1)\n",
    "prediction=model.predict(sample_image)\n",
    "predicted_class=np.argmax(prediction)\n",
    "print(f'Predicted Class:{predicted_class}')"
   ]
  },
  {
   "cell_type": "code",
   "execution_count": 8,
   "id": "2002ee78",
   "metadata": {},
   "outputs": [
    {
     "name": "stdout",
     "output_type": "stream",
     "text": [
      "1/1 [==============================] - 0s 39ms/step\n",
      "Predicted Class:1\n"
     ]
    }
   ],
   "source": [
    "sample_image=cv2.imread(\"C:/Users/KIIT/Downloads/WhatsApp Image 2023-10-01 at 18.15.23_8e1e6c52.jpg\",cv2.IMREAD_GRAYSCALE)\n",
    "sample_image=cv2.resize(sample_image,(28,28))#resize the img to match the model input\n",
    "sample_image=sample_image/255.0#normalize pixel values to[0,1]\n",
    "sample_image=sample_image.reshape(1,28,28,1)#reshape for the model\n",
    "prediction=model.predict(sample_image)\n",
    "predicted_class=np.argmax(prediction)\n",
    "print(f'Predicted Class:{predicted_class}')"
   ]
  },
  {
   "cell_type": "code",
   "execution_count": 9,
   "id": "90626852",
   "metadata": {},
   "outputs": [
    {
     "name": "stdout",
     "output_type": "stream",
     "text": [
      "1/1 [==============================] - 0s 48ms/step\n",
      "Predicted Class:3\n"
     ]
    }
   ],
   "source": [
    "sample_image=cv2.imread(\"C:/Users/KIIT/Downloads/WhatsApp Image 2023-10-01 at 18.15.23_fa61fefd.jpg\",cv2.IMREAD_GRAYSCALE)\n",
    "sample_image=cv2.resize(sample_image,(28,28))#resize the img to match the model input\n",
    "sample_image=sample_image/255.0#normalize pixel values to[0,1]\n",
    "sample_image=sample_image.reshape(1,28,28,1)#reshape for the model\n",
    "prediction=model.predict(sample_image)\n",
    "predicted_class=np.argmax(prediction)\n",
    "print(f'Predicted Class:{predicted_class}')"
   ]
  },
  {
   "cell_type": "code",
   "execution_count": 10,
   "id": "e8671078",
   "metadata": {},
   "outputs": [
    {
     "name": "stdout",
     "output_type": "stream",
     "text": [
      "1/1 [==============================] - 0s 48ms/step\n",
      "Predicted Class:3\n"
     ]
    }
   ],
   "source": [
    "sample_image=cv2.imread(\"C:/Users/KIIT/Downloads/WhatsApp Image 2023-10-01 at 18.15.24_edb2c13b.jpg\",cv2.IMREAD_GRAYSCALE)\n",
    "sample_image=cv2.resize(sample_image,(28,28))#resize the img to match the model input\n",
    "sample_image=sample_image/255.0#normalize pixel values to[0,1]\n",
    "sample_image=sample_image.reshape(1,28,28,1)#reshape for the model\n",
    "prediction=model.predict(sample_image)\n",
    "predicted_class=np.argmax(prediction)\n",
    "print(f'Predicted Class:{predicted_class}')"
   ]
  },
  {
   "cell_type": "code",
   "execution_count": null,
   "id": "674c02d4",
   "metadata": {},
   "outputs": [],
   "source": []
  }
 ],
 "metadata": {
  "kernelspec": {
   "display_name": "Python 3 (ipykernel)",
   "language": "python",
   "name": "python3"
  },
  "language_info": {
   "codemirror_mode": {
    "name": "ipython",
    "version": 3
   },
   "file_extension": ".py",
   "mimetype": "text/x-python",
   "name": "python",
   "nbconvert_exporter": "python",
   "pygments_lexer": "ipython3",
   "version": "3.11.4"
  }
 },
 "nbformat": 4,
 "nbformat_minor": 5
}
