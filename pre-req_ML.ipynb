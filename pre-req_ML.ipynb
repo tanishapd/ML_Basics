{
 "cells": [
  {
   "cell_type": "code",
   "execution_count": 1,
   "id": "0463504a",
   "metadata": {},
   "outputs": [
    {
     "name": "stdout",
     "output_type": "stream",
     "text": [
      "22052341\n",
      "xyz\n",
      "True\n",
      "<class 'int'>\n",
      "<class 'str'>\n",
      "<class 'bool'>\n"
     ]
    }
   ],
   "source": [
    "roll=22052341\n",
    "print(roll)\n",
    "name=\"xyz\"\n",
    "print(name)\n",
    "is_good=True\n",
    "print(is_good)\n",
    "print(type(roll))\n",
    "print(type(name))\n",
    "print(type(is_good))"
   ]
  },
  {
   "cell_type": "code",
   "execution_count": 2,
   "id": "38685657",
   "metadata": {},
   "outputs": [
    {
     "name": "stdout",
     "output_type": "stream",
     "text": [
      "enter integer:2967\n",
      "2967\n"
     ]
    }
   ],
   "source": [
    "input_int=int(input(\"enter integer:\"))\n",
    "print(input_int)"
   ]
  },
  {
   "cell_type": "code",
   "execution_count": 3,
   "id": "65929d2b",
   "metadata": {},
   "outputs": [
    {
     "name": "stdout",
     "output_type": "stream",
     "text": [
      "enter string:hello\n",
      "hello\n"
     ]
    }
   ],
   "source": [
    "input_int=str(input(\"enter string:\"))\n",
    "print(input_int)"
   ]
  },
  {
   "cell_type": "code",
   "execution_count": 4,
   "id": "df85043c",
   "metadata": {},
   "outputs": [
    {
     "name": "stdout",
     "output_type": "stream",
     "text": [
      "enter any decimal no.:5.67\n",
      "5.67\n"
     ]
    }
   ],
   "source": [
    "input_int=float(input(\"enter any decimal no.:\"))\n",
    "print(input_int)"
   ]
  },
  {
   "cell_type": "code",
   "execution_count": 5,
   "id": "875032cb",
   "metadata": {},
   "outputs": [
    {
     "name": "stdout",
     "output_type": "stream",
     "text": [
      "x is equal to 10\n"
     ]
    }
   ],
   "source": [
    "x=10\n",
    "if(x>10):\n",
    "    print(\"x is greater than 10\")\n",
    "elif(x==10):\n",
    "    print(\"x is equal to 10\")\n",
    "else:\n",
    "    print(\"x is less than 10\")"
   ]
  },
  {
   "cell_type": "code",
   "execution_count": 6,
   "id": "a1a3b295",
   "metadata": {},
   "outputs": [
    {
     "name": "stdout",
     "output_type": "stream",
     "text": [
      "2 , 4 , 6 , 8 "
     ]
    }
   ],
   "source": [
    "for i in range(2,10,2):\n",
    "        if(i<8):\n",
    "            print(i,end=\" , \")\n",
    "        else:\n",
    "            print(i,end=\" \")"
   ]
  },
  {
   "cell_type": "code",
   "execution_count": 7,
   "id": "b6d1053f",
   "metadata": {},
   "outputs": [
    {
     "name": "stdout",
     "output_type": "stream",
     "text": [
      "10\n",
      "9\n",
      "8\n",
      "7\n",
      "6\n",
      "5\n",
      "4\n",
      "3\n",
      "2\n",
      "1\n"
     ]
    }
   ],
   "source": [
    "while(x>0):\n",
    "    print(x)\n",
    "    x-=1"
   ]
  },
  {
   "cell_type": "code",
   "execution_count": 8,
   "id": "5999fd6a",
   "metadata": {},
   "outputs": [
    {
     "name": "stdout",
     "output_type": "stream",
     "text": [
      "enter n:45\n",
      "4 8 12 16 20 24 28 32 36 40 44 48 52 56 60 64 68 72 76 80 84 88 "
     ]
    }
   ],
   "source": [
    "n=int(input(\"enter n:\"))\n",
    "for i in range(2,n+1,2):\n",
    "            print(i*2,end=\" \")"
   ]
  },
  {
   "cell_type": "code",
   "execution_count": 9,
   "id": "e943a24a",
   "metadata": {},
   "outputs": [
    {
     "name": "stdout",
     "output_type": "stream",
     "text": [
      "Tanisha\n",
      "s\n"
     ]
    }
   ],
   "source": [
    "text=\"tanisha\"\n",
    "a=text.capitalize()\n",
    "print(a)\n",
    "print(text[4])"
   ]
  },
  {
   "cell_type": "code",
   "execution_count": 23,
   "id": "dfc0ebd3",
   "metadata": {},
   "outputs": [
    {
     "name": "stdout",
     "output_type": "stream",
     "text": [
      "['t', 'p', 'n', 's', 's', 'q', 'a', 8]\n"
     ]
    }
   ],
   "source": [
    "list1=['t','p','n','s','s','q','a',8]\n",
    "print(list1)"
   ]
  },
  {
   "cell_type": "code",
   "execution_count": 25,
   "id": "9150bcd1",
   "metadata": {},
   "outputs": [
    {
     "name": "stdout",
     "output_type": "stream",
     "text": [
      "['abcd ', ' ijkl']\n"
     ]
    }
   ],
   "source": [
    "str1=\"abcd efgh ijkl\"\n",
    "lista=str1.split(\"efgh\")\n",
    "print(lista)"
   ]
  },
  {
   "cell_type": "code",
   "execution_count": 26,
   "id": "e438ff08",
   "metadata": {},
   "outputs": [
    {
     "name": "stdout",
     "output_type": "stream",
     "text": [
      "abcd - ijkl\n"
     ]
    }
   ],
   "source": [
    "x=\"-\".join(lista)\n",
    "print(x)"
   ]
  },
  {
   "cell_type": "code",
   "execution_count": 30,
   "id": "bf7bfa33",
   "metadata": {},
   "outputs": [
    {
     "name": "stdout",
     "output_type": "stream",
     "text": [
      "(1, 'a', 't', 'l', 'f', 'i', 's', 'h', 'g')\n"
     ]
    }
   ],
   "source": [
    "tuple1 = (1, 4, 't', 'l', 'f', 'i', 's', 'h', 'g')\n",
    "tuple1 = tuple1[:1] + ('a',) + tuple1[2:]\n",
    "print(tuple1)"
   ]
  },
  {
   "cell_type": "code",
   "execution_count": 31,
   "id": "9be02aff",
   "metadata": {},
   "outputs": [
    {
     "name": "stdout",
     "output_type": "stream",
     "text": [
      "tanisha 19\n"
     ]
    }
   ],
   "source": [
    "def get_name_and_age(n,a):\n",
    "    name=n\n",
    "    age=a\n",
    "    return name,age\n",
    "tuple2=()\n",
    "a,b=get_name_and_age(\"tanisha\",19)\n",
    "print(a,b)"
   ]
  },
  {
   "cell_type": "code",
   "execution_count": 32,
   "id": "6ff1ef9a",
   "metadata": {},
   "outputs": [
    {
     "name": "stdout",
     "output_type": "stream",
     "text": [
      "enter n:4\n",
      "Factorial of the number is: \n",
      "24\n"
     ]
    }
   ],
   "source": [
    "n=int(input(\"enter n:\"))\n",
    "fact=1\n",
    "while(n>0):\n",
    "    fact=fact*n\n",
    "    n=n-1\n",
    "print(\"Factorial of the number is: \")\n",
    "print(fact)"
   ]
  },
  {
   "cell_type": "code",
   "execution_count": 33,
   "id": "102159cb",
   "metadata": {},
   "outputs": [
    {
     "name": "stdout",
     "output_type": "stream",
     "text": [
      "Before swapping a : 30\n",
      "Before swapping b : 20\n",
      "After swapping a:  20\n",
      "After swapping b:  30\n"
     ]
    }
   ],
   "source": [
    "a=30\n",
    "b=20\n",
    "print(\"Before swapping a :\",a)\n",
    "print(\"Before swapping b :\",b)\n",
    "a=a+b \n",
    "b=a-b\n",
    "a=a-b\n",
    "print(\"After swapping a: \",a)\n",
    "print(\"After swapping b: \",b) \n",
    "\n"
   ]
  },
  {
   "cell_type": "code",
   "execution_count": null,
   "id": "6bc7678d",
   "metadata": {},
   "outputs": [],
   "source": []
  },
  {
   "cell_type": "code",
   "execution_count": null,
   "id": "6508771c",
   "metadata": {},
   "outputs": [],
   "source": []
  }
 ],
 "metadata": {
  "kernelspec": {
   "display_name": "Python 3 (ipykernel)",
   "language": "python",
   "name": "python3"
  },
  "language_info": {
   "codemirror_mode": {
    "name": "ipython",
    "version": 3
   },
   "file_extension": ".py",
   "mimetype": "text/x-python",
   "name": "python",
   "nbconvert_exporter": "python",
   "pygments_lexer": "ipython3",
   "version": "3.11.4"
  }
 },
 "nbformat": 4,
 "nbformat_minor": 5
}
