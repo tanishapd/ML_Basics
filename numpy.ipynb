{
 "cells": [
  {
   "cell_type": "code",
   "execution_count": 1,
   "id": "20354bff",
   "metadata": {},
   "outputs": [
    {
     "name": "stdout",
     "output_type": "stream",
     "text": [
      "[1 2 3 4 5]\n"
     ]
    }
   ],
   "source": [
    "import numpy as np\n",
    "list1=[1,2,3,4,5]\n",
    "arr=np.array(list1)\n",
    "print(arr)\n"
   ]
  },
  {
   "cell_type": "code",
   "execution_count": 2,
   "id": "aed1d4e4",
   "metadata": {},
   "outputs": [
    {
     "name": "stdout",
     "output_type": "stream",
     "text": [
      "[0. 0. 0. 0. 0.]\n"
     ]
    }
   ],
   "source": [
    "zeros_arr=np.zeros(5)\n",
    "print(zeros_arr)"
   ]
  },
  {
   "cell_type": "code",
   "execution_count": 3,
   "id": "0453c253",
   "metadata": {},
   "outputs": [
    {
     "name": "stdout",
     "output_type": "stream",
     "text": [
      "[0 0 0 0 0]\n"
     ]
    }
   ],
   "source": [
    "zeros_arr=np.zeros(5,dtype=\"int\")\n",
    "print(zeros_arr)"
   ]
  },
  {
   "cell_type": "code",
   "execution_count": 4,
   "id": "dba410e3",
   "metadata": {},
   "outputs": [
    {
     "name": "stdout",
     "output_type": "stream",
     "text": [
      "[1. 1. 1. 1. 1.]\n"
     ]
    }
   ],
   "source": [
    "ones_arr=np.ones(5)\n",
    "print(ones_arr)"
   ]
  },
  {
   "cell_type": "code",
   "execution_count": 5,
   "id": "6a1d23d5",
   "metadata": {},
   "outputs": [
    {
     "name": "stdout",
     "output_type": "stream",
     "text": [
      "[1 3 5 7 9]\n"
     ]
    }
   ],
   "source": [
    "range_arr=np.arange(1,10,2)\n",
    "print(range_arr)"
   ]
  },
  {
   "cell_type": "code",
   "execution_count": 6,
   "id": "992cedf2",
   "metadata": {},
   "outputs": [
    {
     "name": "stdout",
     "output_type": "stream",
     "text": [
      "[0.   0.25 0.5  0.75 1.  ]\n"
     ]
    }
   ],
   "source": [
    "linspace_arr=np.linspace(0,1,5)\n",
    "print(linspace_arr)"
   ]
  },
  {
   "cell_type": "code",
   "execution_count": 7,
   "id": "030862a3",
   "metadata": {},
   "outputs": [
    {
     "name": "stdout",
     "output_type": "stream",
     "text": [
      "[0.63696195 0.08502942 0.31830442]\n"
     ]
    }
   ],
   "source": [
    "random_array=np.random.rand(3)\n",
    "print(random_array)"
   ]
  },
  {
   "cell_type": "code",
   "execution_count": 8,
   "id": "4e1a9a38",
   "metadata": {},
   "outputs": [
    {
     "name": "stdout",
     "output_type": "stream",
     "text": [
      "[-0.73196487 -0.06622086  0.84773792]\n"
     ]
    }
   ],
   "source": [
    "randn_arr=np.random.randn(3)\n",
    "print(randn_arr)"
   ]
  },
  {
   "cell_type": "code",
   "execution_count": 9,
   "id": "442d7305",
   "metadata": {},
   "outputs": [
    {
     "name": "stdout",
     "output_type": "stream",
     "text": [
      "(2, 3)\n"
     ]
    }
   ],
   "source": [
    "arr=np.array([[1,2,3],[4,5,6]])\n",
    "print(np.shape(arr))"
   ]
  },
  {
   "cell_type": "code",
   "execution_count": 10,
   "id": "e53b01fa",
   "metadata": {},
   "outputs": [
    {
     "name": "stdout",
     "output_type": "stream",
     "text": [
      "3.0\n",
      "15\n",
      "1.4142135623730951\n"
     ]
    },
    {
     "data": {
      "text/plain": [
       "array([1, 2, 3, 4, 5])"
      ]
     },
     "execution_count": 10,
     "metadata": {},
     "output_type": "execute_result"
    }
   ],
   "source": [
    "arr=[1,2,3,4,5]\n",
    "median=np.median(arr)\n",
    "sum1=np.sum(arr)\n",
    "std_dev=np.std(arr)\n",
    "print(median)\n",
    "print(sum1)\n",
    "print(std_dev)\n",
    "np.unique(arr)"
   ]
  },
  {
   "cell_type": "code",
   "execution_count": 11,
   "id": "2ad78aac",
   "metadata": {},
   "outputs": [
    {
     "name": "stdout",
     "output_type": "stream",
     "text": [
      "[[1 4]\n",
      " [2 5]\n",
      " [3 6]]\n"
     ]
    }
   ],
   "source": [
    "arr=np.array([[1,2,3],[4,5,6]])\n",
    "transpose_arr=np.transpose(arr)\n",
    "print(transpose_arr)"
   ]
  },
  {
   "cell_type": "code",
   "execution_count": 12,
   "id": "c0872d50",
   "metadata": {},
   "outputs": [
    {
     "name": "stdout",
     "output_type": "stream",
     "text": [
      "7940\n"
     ]
    }
   ],
   "source": [
    "import numpy as np\n",
    "range_arr=np.random.randint(1000,10000)\n",
    "print(range_arr)\n"
   ]
  },
  {
   "cell_type": "code",
   "execution_count": 13,
   "id": "d7fdd0d9",
   "metadata": {},
   "outputs": [
    {
     "name": "stdout",
     "output_type": "stream",
     "text": [
      "3.0\n",
      "3.0\n",
      "1\n",
      "1.4142135623730951\n",
      "[[1 5]\n",
      " [2 4]\n",
      " [3 3]\n",
      " [4 2]\n",
      " [5 1]]\n"
     ]
    }
   ],
   "source": [
    "import numpy as np\n",
    "arr=[1,2,3,4,5],[5,4,3,2,1]\n",
    "mean=np.mean(arr)\n",
    "median=np.median(arr)\n",
    "unique_values, counts = np.unique(arr, return_counts=True)\n",
    "mode = unique_values[np.argmax(counts)]\n",
    "std_dev=np.std(arr)\n",
    "transpose_arr=np.transpose(arr)\n",
    "print(mean)\n",
    "print(median)\n",
    "print(mode)\n",
    "print(std_dev)\n",
    "print(transpose_arr)"
   ]
  },
  {
   "cell_type": "code",
   "execution_count": 14,
   "id": "c1c70f61",
   "metadata": {},
   "outputs": [
    {
     "name": "stdout",
     "output_type": "stream",
     "text": [
      "Vector 1 [22, 6, 7]\n",
      "Vector 2 [10, 3, 8]\n",
      "Cross product:  [  27 -106    6]\n"
     ]
    }
   ],
   "source": [
    "import numpy as np\n",
    "arr1 = [22,6,7]\n",
    "arr2 = [10,3,8]\n",
    "print(\"Vector 1\", arr1)\n",
    "print(\"Vector 2\", arr2)\n",
    "print(\"Cross product: \",np.cross(arr1,arr2))\n"
   ]
  },
  {
   "cell_type": "code",
   "execution_count": 15,
   "id": "7a4f9b5e",
   "metadata": {},
   "outputs": [
    {
     "name": "stdout",
     "output_type": "stream",
     "text": [
      "Vector 1 ([91, 41], [8, 12])\n",
      "Vector 2 ([87, 34], [2, 3])\n",
      "Dot product:  [[7999 3217]\n",
      " [ 720  308]]\n"
     ]
    }
   ],
   "source": [
    "import numpy as np\n",
    "arr1 = [91,41],[8,12]\n",
    "arr2 = [87,34],[2,3]\n",
    "print(\"Vector 1\",arr1)\n",
    "print(\"Vector 2\",arr2)\n",
    "print(\"Dot product: \",np.dot(arr1,arr2))"
   ]
  },
  {
   "cell_type": "code",
   "execution_count": 17,
   "id": "caf44af1",
   "metadata": {},
   "outputs": [
    {
     "name": "stdout",
     "output_type": "stream",
     "text": [
      "(2, 2)\n",
      "[ 1 20  5  4]\n",
      "[[ 1 20  5  4]]\n",
      "[[ 1]\n",
      " [20]\n",
      " [ 5]\n",
      " [ 4]]\n"
     ]
    }
   ],
   "source": [
    "import numpy as np\n",
    "\n",
    "arr = np.array([[1, 20], [5, 4]])\n",
    "print(np.shape(arr))   \n",
    "\n",
    "print(arr.reshape(4,))     \n",
    "print(arr.reshape(1, 4))   \n",
    "print(arr.reshape(4, 1))   "
   ]
  },
  {
   "cell_type": "code",
   "execution_count": 19,
   "id": "b74acb07",
   "metadata": {},
   "outputs": [
    {
     "name": "stdout",
     "output_type": "stream",
     "text": [
      "Round 0 :\n",
      "Enter your choice (1 for rock, 2 for paper and 3 for scissors) : 3\n",
      "Computers's choice :  3\n",
      "Draw\n",
      "Round 1 :\n",
      "Enter your choice (1 for rock, 2 for paper and 3 for scissors) : 3\n",
      "Computers's choice :  2\n",
      "User wins this round\n",
      "Round 2 :\n",
      "Enter your choice (1 for rock, 2 for paper and 3 for scissors) : 2\n",
      "Computers's choice :  3\n",
      "Computer won this round\n",
      "Round 3 :\n",
      "Enter your choice (1 for rock, 2 for paper and 3 for scissors) : 1\n",
      "Computers's choice :  3\n",
      "User wins this round\n",
      "Round 4 :\n",
      "Enter your choice (1 for rock, 2 for paper and 3 for scissors) : 3\n",
      "Computers's choice :  1\n",
      "Computer won this round\n",
      "After 5 rounds \n",
      "Score of the user : 2 \n",
      "Score of the computer : 2\n",
      "Computer wins\n"
     ]
    }
   ],
   "source": [
    "import numpy as np\n",
    "user_score=0\n",
    "computer_score=0\n",
    "for i in range(5):\n",
    "    print(\"Round\",i,\":\")\n",
    "    userInp=int(input(\"Enter your choice (1 for rock, 2 for paper and 3 for scissors) : \"))\n",
    "    compInp=np.random.randint(1,4)\n",
    "    print(\"Computers's choice : \",compInp)\n",
    "    if(userInp==compInp):\n",
    "        print(\"Draw\")\n",
    "    elif((userInp==1 and compInp==3)or(userInp==2 and compInp==1)or(userInp==3 and compInp==2)):\n",
    "        print(\"User wins this round\")\n",
    "        user_score+=1\n",
    "    else:\n",
    "        print(\"Computer won this round\")\n",
    "        computer_score+=1\n",
    "print(\"After 5 rounds \\nScore of the user :\",user_score,\"\\nScore of the computer :\",computer_score)\n",
    "if(user_score>computer_score):\n",
    "    print(\"User wins\")\n",
    "else:\n",
    "    print(\"Computer wins\")\n",
    "\n"
   ]
  },
  {
   "cell_type": "code",
   "execution_count": 20,
   "id": "44784219",
   "metadata": {},
   "outputs": [
    {
     "name": "stdout",
     "output_type": "stream",
     "text": [
      "Org Array 1:\n",
      " [[ 0  1  2  3  4  5  6  7  8  9 10 11 12 13 14 15 16 17 18 19]]\n",
      "Org Array 2:\n",
      " [[ 0  1  2  3]\n",
      " [ 4  5  6  7]\n",
      " [ 8  9 10 11]\n",
      " [12 13 14 15]\n",
      " [16 17 18 19]]\n",
      "Reshape Array 1:\n",
      " [[ 0  1  2  3  4  5  6  7  8  9]\n",
      " [10 11 12 13 14 15 16 17 18 19]]\n",
      "Reshape Array 2:\n",
      " [[ 0  1  2  3  4  5  6  7  8  9]\n",
      " [10 11 12 13 14 15 16 17 18 19]]\n"
     ]
    }
   ],
   "source": [
    "import numpy as np\n",
    "\n",
    "\n",
    "arr1 = np.arange(20).reshape(1, 20)\n",
    "arr2 = np.arange(20).reshape(5, 4)\n",
    "\n",
    "reshaped_arr1 = arr1.reshape(2, 10)\n",
    "reshaped_arr2 = arr2.reshape(2, 10)\n",
    "\n",
    "print(\"Org Array 1:\\n\", arr1)\n",
    "print(\"Org Array 2:\\n\", arr2)\n",
    "print(\"Reshape Array 1:\\n\", reshaped_arr1)\n",
    "print(\"Reshape Array 2:\\n\", reshaped_arr2)"
   ]
  },
  {
   "cell_type": "code",
   "execution_count": 21,
   "id": "faa0432d",
   "metadata": {},
   "outputs": [
    {
     "name": "stdout",
     "output_type": "stream",
     "text": [
      "Enter a number: 343\n",
      "The factorial(recursive) of 343 is 204041444647727894832322663397251900658245332324390400529489242223120675094188773114043975799743992919578121862904221538707624613539651617735241304823433436143266461705767566584680005983534555108566627714057772167106506278461879916565954729928846028000454704474107577615388226190068321524291467011878325877132356129908197680574487841393438405895672964096092783542137458755938126723479967598884044727550474402522264572563730271549684118667663915926753884781245932247800208523136927533775595342210049945491110284451604187735397616527464845239386084578367781811330601019717014971878449223769083849020700195533187250240612211539806462750071193600000000000000000000000000000000000000000000000000000000000000000000000000000000000\n",
      "The factorial(non-recursive) of 343 is 204041444647727894832322663397251900658245332324390400529489242223120675094188773114043975799743992919578121862904221538707624613539651617735241304823433436143266461705767566584680005983534555108566627714057772167106506278461879916565954729928846028000454704474107577615388226190068321524291467011878325877132356129908197680574487841393438405895672964096092783542137458755938126723479967598884044727550474402522264572563730271549684118667663915926753884781245932247800208523136927533775595342210049945491110284451604187735397616527464845239386084578367781811330601019717014971878449223769083849020700195533187250240612211539806462750071193600000000000000000000000000000000000000000000000000000000000000000000000000000000000\n"
     ]
    }
   ],
   "source": [
    " def fact(n):\n",
    "    if(n==1 or n==0):\n",
    "        return 1\n",
    "    else:\n",
    "        return(n*fact(n-1))\n",
    "def fact_iterative(n):\n",
    "    result=1\n",
    "    for i in range(1,n+1):\n",
    "        result*=i\n",
    "    return result\n",
    "n=int(input(\"Enter a number: \"))\n",
    "print(\"The factorial(recursive) of\",n,\"is\",fact(n))\n",
    "print(\"The factorial(non-recursive) of\",n,\"is\",fact_iterative(n))"
   ]
  },
  {
   "cell_type": "code",
   "execution_count": 24,
   "id": "d0a85feb",
   "metadata": {},
   "outputs": [
    {
     "name": "stdout",
     "output_type": "stream",
     "text": [
      "Enter your birth month (as string) : \n",
      "Nonemarch\n",
      "Birth Month in number is : 3\n"
     ]
    }
   ],
   "source": [
    "num_to_string = {1:'january', 2:'february', 3:'march', 4:'april', 5:'may', 6:'june', 7:'july', 8:'august', 9:'september', 10:'october', 11:'november', 12:'december'}\n",
    "string_to_num={'january':1, 'february':2, 'march':3, 'april':4, 'may':5, 'june':6, 'july':7, 'august':8, 'september':9, 'october':10, 'november':11, 'december':12}\n",
    "birth_month=str(input(print(\"Enter your birth month (as string) : \")))\n",
    "if(type(birth_month)==str):\n",
    "    print(\"Birth Month in number is :\",string_to_num[birth_month])\n",
    "else:\n",
    "    if(birth_month<12):\n",
    "        print(\"Birth Month (as a string) :\",num_to_string[bith_month])\n",
    "    else:\n",
    "        print(\"Enter a valid birth month\")"
   ]
  },
  {
   "cell_type": "code",
   "execution_count": 28,
   "id": "44ae5626",
   "metadata": {},
   "outputs": [
    {
     "name": "stdout",
     "output_type": "stream",
     "text": [
      "Enter your birth month in number: 4\n",
      "Your birth month is: April\n",
      "Enter your birth month in string: April\n",
      "Your birth month number is: 4\n"
     ]
    }
   ],
   "source": [
    "number_to_str = {1: \"January\",2: \"February\",3: \"March\",4: \"April\",5: \"May\",6: \"June\",7: \"July\",8: \"August\",9: \"September\",10: \"October\",11: \"November\",12: \"December\"}\n",
    "\n",
    "str_to_number = {\"January\": 1,\"February\": 2,\"March\": 3,\"April\": 4,\"May\": 5,\"June\": 6,\"July\": 7,\"August\": 8,\"September\": 9,\"October\": 10,\"November\": 11,\"December\": 12}\n",
    "\n",
    "birth_month_num = int(input(\"Enter your birth month in number: \"))\n",
    "\n",
    "\n",
    "birth_month_name = number_to_str[birth_month_num]\n",
    "print(\"Your birth month is:\", birth_month_name)\n",
    "\n",
    "\n",
    "birth_month_str = input(\"Enter your birth month in string: \")\n",
    "\n",
    "birth_month_number = str_to_number[birth_month_str]\n",
    "print(\"Your birth month number is:\", birth_month_number)"
   ]
  },
  {
   "cell_type": "code",
   "execution_count": null,
   "id": "e6f4797e",
   "metadata": {},
   "outputs": [],
   "source": []
  }
 ],
 "metadata": {
  "kernelspec": {
   "display_name": "Python 3 (ipykernel)",
   "language": "python",
   "name": "python3"
  },
  "language_info": {
   "codemirror_mode": {
    "name": "ipython",
    "version": 3
   },
   "file_extension": ".py",
   "mimetype": "text/x-python",
   "name": "python",
   "nbconvert_exporter": "python",
   "pygments_lexer": "ipython3",
   "version": "3.11.4"
  }
 },
 "nbformat": 4,
 "nbformat_minor": 5
}
